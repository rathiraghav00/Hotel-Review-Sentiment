{
 "cells": [
  {
   "cell_type": "markdown",
   "metadata": {},
   "source": [
    "# Data Cleaning and Preprocessing of Dataset"
   ]
  },
  {
   "cell_type": "markdown",
   "metadata": {},
   "source": [
    "**Loading the dataset**"
   ]
  },
  {
   "cell_type": "code",
   "execution_count": 1,
   "metadata": {},
   "outputs": [
    {
     "data": {
      "text/plain": [
       "(515738, 17)"
      ]
     },
     "execution_count": 1,
     "metadata": {},
     "output_type": "execute_result"
    }
   ],
   "source": [
    "import pandas as pd\n",
    "df = pd.read_csv('hotel_reviews.csv')\n",
    "df.shape"
   ]
  },
  {
   "cell_type": "markdown",
   "metadata": {},
   "source": [
    "**The dataset contains 5,15,000+ datapoints and 17 Features. We will get rid of the unnecessary features which do not contain much information**"
   ]
  },
  {
   "cell_type": "code",
   "execution_count": null,
   "metadata": {},
   "outputs": [],
   "source": [
    "df[\"review\"] = df[\"Negative_Review\"] + df[\"Positive_Review\"]\n",
    "df[\"is_bad_review\"] = df[\"Reviewer_Score\"].apply(lambda x: 1 if x < 5 else 0)\n",
    "reviews_df = df[[\"review\", \"is_bad_review\"]]"
   ]
  },
  {
   "cell_type": "code",
   "execution_count": 2,
   "metadata": {},
   "outputs": [
    {
     "data": {
      "text/html": [
       "<div>\n",
       "<style scoped>\n",
       "    .dataframe tbody tr th:only-of-type {\n",
       "        vertical-align: middle;\n",
       "    }\n",
       "\n",
       "    .dataframe tbody tr th {\n",
       "        vertical-align: top;\n",
       "    }\n",
       "\n",
       "    .dataframe thead th {\n",
       "        text-align: right;\n",
       "    }\n",
       "</style>\n",
       "<table border=\"1\" class=\"dataframe\">\n",
       "  <thead>\n",
       "    <tr style=\"text-align: right;\">\n",
       "      <th></th>\n",
       "      <th>review</th>\n",
       "      <th>is_bad_review</th>\n",
       "    </tr>\n",
       "  </thead>\n",
       "  <tbody>\n",
       "    <tr>\n",
       "      <th>0</th>\n",
       "      <td>I am so angry that i made this post available...</td>\n",
       "      <td>1</td>\n",
       "    </tr>\n",
       "    <tr>\n",
       "      <th>1</th>\n",
       "      <td>No real complaints the hotel was great great ...</td>\n",
       "      <td>0</td>\n",
       "    </tr>\n",
       "    <tr>\n",
       "      <th>2</th>\n",
       "      <td>Rooms are nice but for elderly a bit difficul...</td>\n",
       "      <td>0</td>\n",
       "    </tr>\n",
       "    <tr>\n",
       "      <th>3</th>\n",
       "      <td>My room was dirty and I was afraid to walk ba...</td>\n",
       "      <td>1</td>\n",
       "    </tr>\n",
       "    <tr>\n",
       "      <th>4</th>\n",
       "      <td>You When I booked with your company on line y...</td>\n",
       "      <td>0</td>\n",
       "    </tr>\n",
       "  </tbody>\n",
       "</table>\n",
       "</div>"
      ],
      "text/plain": [
       "                                              review  is_bad_review\n",
       "0   I am so angry that i made this post available...              1\n",
       "1   No real complaints the hotel was great great ...              0\n",
       "2   Rooms are nice but for elderly a bit difficul...              0\n",
       "3   My room was dirty and I was afraid to walk ba...              1\n",
       "4   You When I booked with your company on line y...              0"
      ]
     },
     "execution_count": 2,
     "metadata": {},
     "output_type": "execute_result"
    }
   ],
   "source": [
    "reviews_df.head()"
   ]
  },
  {
   "cell_type": "markdown",
   "metadata": {},
   "source": [
    "**Analyzing the skewness of dependent variable**"
   ]
  },
  {
   "cell_type": "code",
   "execution_count": 7,
   "metadata": {},
   "outputs": [
    {
     "data": {
      "text/plain": [
       "<AxesSubplot:xlabel='is_bad_review', ylabel='count'>"
      ]
     },
     "execution_count": 7,
     "metadata": {},
     "output_type": "execute_result"
    },
    {
     "data": {
      "image/png": "[encoded data removed]",
      "text/plain": [
       "<Figure size 432x288 with 1 Axes>"
      ]
     },
     "metadata": {
      "needs_background": "light"
     },
     "output_type": "display_data"
    }
   ],
   "source": [
    "import seaborn as sns\n",
    "sns.countplot(x = reviews_df['is_bad_review'])"
   ]
  },
  {
   "cell_type": "markdown",
   "metadata": {},
   "source": [
    "**Upon close inspection, we found that the dependent variable is highly skewed, thus we will use the Random Undersampling Technqiue to remove the Majority Class Datapoints and balance our dataset**"
   ]
  },
  {
   "cell_type": "code",
   "execution_count": 9,
   "metadata": {},
   "outputs": [
    {
     "data": {
      "text/plain": [
       "22281"
      ]
     },
     "execution_count": 9,
     "metadata": {},
     "output_type": "execute_result"
    }
   ],
   "source": [
    "count = 0\n",
    "for i in reviews_df['is_bad_review']:\n",
    "    if i==1:\n",
    "        count+=1\n",
    "count"
   ]
  },
  {
   "cell_type": "code",
   "execution_count": 10,
   "metadata": {},
   "outputs": [],
   "source": [
    "indexes = []\n",
    "count = 0\n",
    "pos_rev = 32719\n",
    "for i in range(reviews_df.shape[0]):\n",
    "    \n",
    "    if reviews_df['is_bad_review'][i] == 0:\n",
    "        if not (count < pos_rev):\n",
    "            indexes.append(i)\n",
    "        else:\n",
    "            count+=1"
   ]
  },
  {
   "cell_type": "code",
   "execution_count": null,
   "metadata": {},
   "outputs": [],
   "source": [
    "reviews_df.drop(index = indexes, axis = 0, inplace = True)"
   ]
  },
  {
   "cell_type": "code",
   "execution_count": 13,
   "metadata": {},
   "outputs": [
    {
     "data": {
      "text/plain": [
       "<AxesSubplot:xlabel='is_bad_review', ylabel='count'>"
      ]
     },
     "execution_count": 13,
     "metadata": {},
     "output_type": "execute_result"
    },
    {
     "data": {
      "image/png": "[encoded data removed]",
      "text/plain": [
       "<Figure size 432x288 with 1 Axes>"
      ]
     },
     "metadata": {
      "needs_background": "light"
     },
     "output_type": "display_data"
    }
   ],
   "source": [
    "import seaborn as sns\n",
    "sns.countplot(x = reviews_df['is_bad_review'])"
   ]
  },
  {
   "cell_type": "markdown",
   "metadata": {},
   "source": [
    "**Our dataset is not skewed now**"
   ]
  },
  {
   "cell_type": "code",
   "execution_count": null,
   "metadata": {},
   "outputs": [],
   "source": [
    "reviews_df.to_csv(\"data_max.csv\", index = False)"
   ]
  },
  {
   "cell_type": "code",
   "execution_count": 12,
   "metadata": {},
   "outputs": [
    {
     "data": {
      "text/html": [
       "<div>\n",
       "<style scoped>\n",
       "    .dataframe tbody tr th:only-of-type {\n",
       "        vertical-align: middle;\n",
       "    }\n",
       "\n",
       "    .dataframe tbody tr th {\n",
       "        vertical-align: top;\n",
       "    }\n",
       "\n",
       "    .dataframe thead th {\n",
       "        text-align: right;\n",
       "    }\n",
       "</style>\n",
       "<table border=\"1\" class=\"dataframe\">\n",
       "  <thead>\n",
       "    <tr style=\"text-align: right;\">\n",
       "      <th></th>\n",
       "      <th>review</th>\n",
       "      <th>is_bad_review</th>\n",
       "    </tr>\n",
       "  </thead>\n",
       "  <tbody>\n",
       "    <tr>\n",
       "      <th>0</th>\n",
       "      <td>I am so angry that i made this post available...</td>\n",
       "      <td>1</td>\n",
       "    </tr>\n",
       "    <tr>\n",
       "      <th>1</th>\n",
       "      <td>No real complaints the hotel was great great ...</td>\n",
       "      <td>0</td>\n",
       "    </tr>\n",
       "    <tr>\n",
       "      <th>2</th>\n",
       "      <td>Rooms are nice but for elderly a bit difficul...</td>\n",
       "      <td>0</td>\n",
       "    </tr>\n",
       "    <tr>\n",
       "      <th>3</th>\n",
       "      <td>My room was dirty and I was afraid to walk ba...</td>\n",
       "      <td>1</td>\n",
       "    </tr>\n",
       "    <tr>\n",
       "      <th>4</th>\n",
       "      <td>You When I booked with your company on line y...</td>\n",
       "      <td>0</td>\n",
       "    </tr>\n",
       "  </tbody>\n",
       "</table>\n",
       "</div>"
      ],
      "text/plain": [
       "                                              review  is_bad_review\n",
       "0   I am so angry that i made this post available...              1\n",
       "1   No real complaints the hotel was great great ...              0\n",
       "2   Rooms are nice but for elderly a bit difficul...              0\n",
       "3   My room was dirty and I was afraid to walk ba...              1\n",
       "4   You When I booked with your company on line y...              0"
      ]
     },
     "execution_count": 12,
     "metadata": {},
     "output_type": "execute_result"
    }
   ],
   "source": [
    "reviews_df.head()"
   ]
  },
  {
   "cell_type": "markdown",
   "metadata": {},
   "source": [
    "**Creating a seperate test dataset for model evaluation in the future**"
   ]
  },
  {
   "cell_type": "code",
   "execution_count": 14,
   "metadata": {},
   "outputs": [],
   "source": [
    "from sklearn.model_selection import train_test_split\n",
    "label = \"is_bad_review\"\n",
    "ignore_cols = [label]\n",
    "features = [c for c in reviews_df.columns if c not in ignore_cols]\n",
    "\n",
    "X_train, X_test, y_train, y_test = train_test_split(reviews_df[features], reviews_df[label], test_size=0.2, random_state=42)"
   ]
  },
  {
   "cell_type": "code",
   "execution_count": 15,
   "metadata": {},
   "outputs": [],
   "source": [
    "X_test['is_bad_review'] = y_test"
   ]
  },
  {
   "cell_type": "code",
   "execution_count": 15,
   "metadata": {},
   "outputs": [],
   "source": [
    "X_test.to_csv(\"test.csv\", index = False)"
   ]
  },
  {
   "cell_type": "code",
   "execution_count": 16,
   "metadata": {},
   "outputs": [],
   "source": [
    "X_train[label] = y_train\n",
    "reviews_df = X_train"
   ]
  },
  {
   "cell_type": "code",
   "execution_count": 17,
   "metadata": {},
   "outputs": [
    {
     "data": {
      "text/html": [
       "<div>\n",
       "<style scoped>\n",
       "    .dataframe tbody tr th:only-of-type {\n",
       "        vertical-align: middle;\n",
       "    }\n",
       "\n",
       "    .dataframe tbody tr th {\n",
       "        vertical-align: top;\n",
       "    }\n",
       "\n",
       "    .dataframe thead th {\n",
       "        text-align: right;\n",
       "    }\n",
       "</style>\n",
       "<table border=\"1\" class=\"dataframe\">\n",
       "  <thead>\n",
       "    <tr style=\"text-align: right;\">\n",
       "      <th></th>\n",
       "      <th>review</th>\n",
       "      <th>is_bad_review</th>\n",
       "    </tr>\n",
       "  </thead>\n",
       "  <tbody>\n",
       "    <tr>\n",
       "      <th>24725</th>\n",
       "      <td>The hotel facilities and location was excelle...</td>\n",
       "      <td>0</td>\n",
       "    </tr>\n",
       "    <tr>\n",
       "      <th>65</th>\n",
       "      <td>Not being told a hedkandi night was across fr...</td>\n",
       "      <td>0</td>\n",
       "    </tr>\n",
       "    <tr>\n",
       "      <th>460707</th>\n",
       "      <td>Deposit taken too much money out of my account</td>\n",
       "      <td>1</td>\n",
       "    </tr>\n",
       "    <tr>\n",
       "      <th>81869</th>\n",
       "      <td>The room was tiny and gloomy and bore no rese...</td>\n",
       "      <td>1</td>\n",
       "    </tr>\n",
       "    <tr>\n",
       "      <th>24397</th>\n",
       "      <td>Fantastic hotel We can t wait to go back Room...</td>\n",
       "      <td>0</td>\n",
       "    </tr>\n",
       "  </tbody>\n",
       "</table>\n",
       "</div>"
      ],
      "text/plain": [
       "                                                   review  is_bad_review\n",
       "24725    The hotel facilities and location was excelle...              0\n",
       "65       Not being told a hedkandi night was across fr...              0\n",
       "460707     Deposit taken too much money out of my account              1\n",
       "81869    The room was tiny and gloomy and bore no rese...              1\n",
       "24397    Fantastic hotel We can t wait to go back Room...              0"
      ]
     },
     "execution_count": 17,
     "metadata": {},
     "output_type": "execute_result"
    }
   ],
   "source": [
    "reviews_df.head()"
   ]
  },
  {
   "cell_type": "markdown",
   "metadata": {},
   "source": [
    "**The reviews in the dataset need to be preprocessed to remove stopwords, punctuations, etc. before converting them into vectors.\n",
    "This will be done with the help of nltk library**"
   ]
  },
  {
   "cell_type": "code",
   "execution_count": null,
   "metadata": {},
   "outputs": [],
   "source": [
    "import nltk\n",
    "\n",
    "from nltk.corpus import wordnet\n",
    "\n",
    "def get_wordnet_pos(pos_tag):\n",
    "    if pos_tag.startswith('J'):\n",
    "        return wordnet.ADJ\n",
    "    elif pos_tag.startswith('V'):\n",
    "        return wordnet.VERB\n",
    "    elif pos_tag.startswith('N'):\n",
    "        return wordnet.NOUN\n",
    "    elif pos_tag.startswith('R'):\n",
    "        return wordnet.ADV\n",
    "    else:\n",
    "        return wordnet.NOUN"
   ]
  },
  {
   "cell_type": "code",
   "execution_count": 18,
   "metadata": {},
   "outputs": [],
   "source": [
    "import string\n",
    "from nltk import pos_tag\n",
    "from nltk.corpus import stopwords\n",
    "from nltk.tokenize import WhitespaceTokenizer\n",
    "from nltk.stem import WordNetLemmatizer\n",
    "\n",
    "def clean_text(text):\n",
    "    text = str(text).lower()\n",
    "    text = [word.strip(string.punctuation) for word in text.split(\" \")]\n",
    "    text = [word for word in text if not any(c.isdigit() for c in word)]\n",
    "    stop = stopwords.words('english')\n",
    "    text = [x for x in text if x not in stop]\n",
    "    text = [t for t in text if len(t) > 0]\n",
    "    pos_tags = pos_tag(text)\n",
    "    text = [WordNetLemmatizer().lemmatize(t[0], get_wordnet_pos(t[1])) for t in pos_tags]\n",
    "    text = [t for t in text if len(t) > 1]\n",
    "    text = \" \".join(text)\n",
    "    return(text)\n",
    "\n",
    "reviews_df[\"review_clean\"] = reviews_df[\"review\"]\n",
    "reviews_df[\"review_clean\"] = reviews_df[\"review_clean\"].apply(lambda x: clean_text(x))"
   ]
  },
  {
   "cell_type": "markdown",
   "metadata": {},
   "source": [
    "**The clean review is added as an attribute in the dataset which will be further used for vectorization**"
   ]
  },
  {
   "cell_type": "code",
   "execution_count": 19,
   "metadata": {},
   "outputs": [
    {
     "data": {
      "text/html": [
       "<div>\n",
       "<style scoped>\n",
       "    .dataframe tbody tr th:only-of-type {\n",
       "        vertical-align: middle;\n",
       "    }\n",
       "\n",
       "    .dataframe tbody tr th {\n",
       "        vertical-align: top;\n",
       "    }\n",
       "\n",
       "    .dataframe thead th {\n",
       "        text-align: right;\n",
       "    }\n",
       "</style>\n",
       "<table border=\"1\" class=\"dataframe\">\n",
       "  <thead>\n",
       "    <tr style=\"text-align: right;\">\n",
       "      <th></th>\n",
       "      <th>review</th>\n",
       "      <th>is_bad_review</th>\n",
       "      <th>review_clean</th>\n",
       "    </tr>\n",
       "  </thead>\n",
       "  <tbody>\n",
       "    <tr>\n",
       "      <th>24725</th>\n",
       "      <td>The hotel facilities and location was excelle...</td>\n",
       "      <td>0</td>\n",
       "      <td>hotel facility location excellent handy tube t...</td>\n",
       "    </tr>\n",
       "    <tr>\n",
       "      <th>65</th>\n",
       "      <td>Not being told a hedkandi night was across fr...</td>\n",
       "      <td>0</td>\n",
       "      <td>told hedkandi night across room leave sleep ro...</td>\n",
       "    </tr>\n",
       "    <tr>\n",
       "      <th>460707</th>\n",
       "      <td>Deposit taken too much money out of my account</td>\n",
       "      <td>1</td>\n",
       "      <td>deposit take much money account</td>\n",
       "    </tr>\n",
       "    <tr>\n",
       "      <th>81869</th>\n",
       "      <td>The room was tiny and gloomy and bore no rese...</td>\n",
       "      <td>1</td>\n",
       "      <td>room tiny gloomy bore resemblance website cons...</td>\n",
       "    </tr>\n",
       "    <tr>\n",
       "      <th>24397</th>\n",
       "      <td>Fantastic hotel We can t wait to go back Room...</td>\n",
       "      <td>0</td>\n",
       "      <td>fantastic hotel wait go back room lovely spaci...</td>\n",
       "    </tr>\n",
       "  </tbody>\n",
       "</table>\n",
       "</div>"
      ],
      "text/plain": [
       "                                                   review  is_bad_review  \\\n",
       "24725    The hotel facilities and location was excelle...              0   \n",
       "65       Not being told a hedkandi night was across fr...              0   \n",
       "460707     Deposit taken too much money out of my account              1   \n",
       "81869    The room was tiny and gloomy and bore no rese...              1   \n",
       "24397    Fantastic hotel We can t wait to go back Room...              0   \n",
       "\n",
       "                                             review_clean  \n",
       "24725   hotel facility location excellent handy tube t...  \n",
       "65      told hedkandi night across room leave sleep ro...  \n",
       "460707                    deposit take much money account  \n",
       "81869   room tiny gloomy bore resemblance website cons...  \n",
       "24397   fantastic hotel wait go back room lovely spaci...  "
      ]
     },
     "execution_count": 19,
     "metadata": {},
     "output_type": "execute_result"
    }
   ],
   "source": [
    "reviews_df.head()"
   ]
  },
  {
   "cell_type": "markdown",
   "metadata": {},
   "source": [
    "# Feature Selection and Feature Extraction"
   ]
  },
  {
   "cell_type": "markdown",
   "metadata": {},
   "source": [
    "**We will now use NLTK Vader Library which would give a polarity score to the original review based on the words present in the review. These features would help in the training of the model**"
   ]
  },
  {
   "cell_type": "code",
   "execution_count": 20,
   "metadata": {
    "scrolled": true
   },
   "outputs": [],
   "source": [
    "from nltk.sentiment.vader import SentimentIntensityAnalyzer\n",
    "\n",
    "sid = SentimentIntensityAnalyzer()\n",
    "reviews_df[\"sentiments\"] = reviews_df[\"review\"]\n",
    "reviews_df[\"sentiments\"] = reviews_df[\"sentiments\"].apply(lambda x: sid.polarity_scores(str(x)))"
   ]
  },
  {
   "cell_type": "code",
   "execution_count": 21,
   "metadata": {},
   "outputs": [],
   "source": [
    "reviews_df[\"neg\"] = reviews_df[\"sentiments\"]\n",
    "reviews_df[\"neg\"] = reviews_df[\"neg\"].apply(lambda x: x['neg'])\n",
    "reviews_df[\"pos\"] = reviews_df[\"sentiments\"]\n",
    "reviews_df[\"pos\"] = reviews_df[\"pos\"].apply(lambda x: x['pos'])\n",
    "reviews_df[\"neu\"] = reviews_df[\"sentiments\"]\n",
    "reviews_df[\"neu\"] = reviews_df[\"neu\"].apply(lambda x: x['neu'])\n",
    "reviews_df[\"compound\"] = reviews_df[\"sentiments\"]\n",
    "reviews_df[\"compound\"] = reviews_df[\"compound\"].apply(lambda x: x['compound'])"
   ]
  },
  {
   "cell_type": "code",
   "execution_count": 22,
   "metadata": {},
   "outputs": [],
   "source": [
    "reviews_df.drop('sentiments', axis = 1, inplace = True)"
   ]
  },
  {
   "cell_type": "markdown",
   "metadata": {},
   "source": [
    "**This is the updated dataset**"
   ]
  },
  {
   "cell_type": "code",
   "execution_count": 23,
   "metadata": {},
   "outputs": [
    {
     "data": {
      "text/html": [
       "<div>\n",
       "<style scoped>\n",
       "    .dataframe tbody tr th:only-of-type {\n",
       "        vertical-align: middle;\n",
       "    }\n",
       "\n",
       "    .dataframe tbody tr th {\n",
       "        vertical-align: top;\n",
       "    }\n",
       "\n",
       "    .dataframe thead th {\n",
       "        text-align: right;\n",
       "    }\n",
       "</style>\n",
       "<table border=\"1\" class=\"dataframe\">\n",
       "  <thead>\n",
       "    <tr style=\"text-align: right;\">\n",
       "      <th></th>\n",
       "      <th>review</th>\n",
       "      <th>is_bad_review</th>\n",
       "      <th>review_clean</th>\n",
       "      <th>neg</th>\n",
       "      <th>pos</th>\n",
       "      <th>neu</th>\n",
       "      <th>compound</th>\n",
       "    </tr>\n",
       "  </thead>\n",
       "  <tbody>\n",
       "    <tr>\n",
       "      <th>24725</th>\n",
       "      <td>The hotel facilities and location was excelle...</td>\n",
       "      <td>0</td>\n",
       "      <td>hotel facility location excellent handy tube t...</td>\n",
       "      <td>0.000</td>\n",
       "      <td>0.408</td>\n",
       "      <td>0.592</td>\n",
       "      <td>0.9300</td>\n",
       "    </tr>\n",
       "    <tr>\n",
       "      <th>65</th>\n",
       "      <td>Not being told a hedkandi night was across fr...</td>\n",
       "      <td>0</td>\n",
       "      <td>told hedkandi night across room leave sleep ro...</td>\n",
       "      <td>0.118</td>\n",
       "      <td>0.157</td>\n",
       "      <td>0.725</td>\n",
       "      <td>0.4391</td>\n",
       "    </tr>\n",
       "    <tr>\n",
       "      <th>460707</th>\n",
       "      <td>Deposit taken too much money out of my account</td>\n",
       "      <td>1</td>\n",
       "      <td>deposit take much money account</td>\n",
       "      <td>0.000</td>\n",
       "      <td>0.000</td>\n",
       "      <td>1.000</td>\n",
       "      <td>0.0000</td>\n",
       "    </tr>\n",
       "    <tr>\n",
       "      <th>81869</th>\n",
       "      <td>The room was tiny and gloomy and bore no rese...</td>\n",
       "      <td>1</td>\n",
       "      <td>room tiny gloomy bore resemblance website cons...</td>\n",
       "      <td>0.148</td>\n",
       "      <td>0.000</td>\n",
       "      <td>0.852</td>\n",
       "      <td>-0.9144</td>\n",
       "    </tr>\n",
       "    <tr>\n",
       "      <th>24397</th>\n",
       "      <td>Fantastic hotel We can t wait to go back Room...</td>\n",
       "      <td>0</td>\n",
       "      <td>fantastic hotel wait go back room lovely spaci...</td>\n",
       "      <td>0.000</td>\n",
       "      <td>0.340</td>\n",
       "      <td>0.660</td>\n",
       "      <td>0.9312</td>\n",
       "    </tr>\n",
       "  </tbody>\n",
       "</table>\n",
       "</div>"
      ],
      "text/plain": [
       "                                                   review  is_bad_review  \\\n",
       "24725    The hotel facilities and location was excelle...              0   \n",
       "65       Not being told a hedkandi night was across fr...              0   \n",
       "460707     Deposit taken too much money out of my account              1   \n",
       "81869    The room was tiny and gloomy and bore no rese...              1   \n",
       "24397    Fantastic hotel We can t wait to go back Room...              0   \n",
       "\n",
       "                                             review_clean    neg    pos  \\\n",
       "24725   hotel facility location excellent handy tube t...  0.000  0.408   \n",
       "65      told hedkandi night across room leave sleep ro...  0.118  0.157   \n",
       "460707                    deposit take much money account  0.000  0.000   \n",
       "81869   room tiny gloomy bore resemblance website cons...  0.148  0.000   \n",
       "24397   fantastic hotel wait go back room lovely spaci...  0.000  0.340   \n",
       "\n",
       "          neu  compound  \n",
       "24725   0.592    0.9300  \n",
       "65      0.725    0.4391  \n",
       "460707  1.000    0.0000  \n",
       "81869   0.852   -0.9144  \n",
       "24397   0.660    0.9312  "
      ]
     },
     "execution_count": 23,
     "metadata": {},
     "output_type": "execute_result"
    }
   ],
   "source": [
    "reviews_df.head()"
   ]
  },
  {
   "cell_type": "markdown",
   "metadata": {},
   "source": [
    "**We beleive that the number of charachters and the number of words in the review can act as important information to classify review into a positive or a negative review**"
   ]
  },
  {
   "cell_type": "code",
   "execution_count": 24,
   "metadata": {},
   "outputs": [],
   "source": [
    "reviews_df[\"nb_chars\"] = reviews_df[\"review\"].apply(lambda x: len(str(x)))\n",
    "reviews_df[\"nb_words\"] = reviews_df[\"review\"].apply(lambda x: len(str(x).split(\" \")))"
   ]
  },
  {
   "cell_type": "code",
   "execution_count": 25,
   "metadata": {},
   "outputs": [
    {
     "data": {
      "text/html": [
       "<div>\n",
       "<style scoped>\n",
       "    .dataframe tbody tr th:only-of-type {\n",
       "        vertical-align: middle;\n",
       "    }\n",
       "\n",
       "    .dataframe tbody tr th {\n",
       "        vertical-align: top;\n",
       "    }\n",
       "\n",
       "    .dataframe thead th {\n",
       "        text-align: right;\n",
       "    }\n",
       "</style>\n",
       "<table border=\"1\" class=\"dataframe\">\n",
       "  <thead>\n",
       "    <tr style=\"text-align: right;\">\n",
       "      <th></th>\n",
       "      <th>review</th>\n",
       "      <th>is_bad_review</th>\n",
       "      <th>review_clean</th>\n",
       "      <th>neg</th>\n",
       "      <th>pos</th>\n",
       "      <th>neu</th>\n",
       "      <th>compound</th>\n",
       "      <th>nb_chars</th>\n",
       "      <th>nb_words</th>\n",
       "    </tr>\n",
       "  </thead>\n",
       "  <tbody>\n",
       "    <tr>\n",
       "      <th>24725</th>\n",
       "      <td>The hotel facilities and location was excelle...</td>\n",
       "      <td>0</td>\n",
       "      <td>hotel facility location excellent handy tube t...</td>\n",
       "      <td>0.000</td>\n",
       "      <td>0.408</td>\n",
       "      <td>0.592</td>\n",
       "      <td>0.9300</td>\n",
       "      <td>161</td>\n",
       "      <td>27</td>\n",
       "    </tr>\n",
       "    <tr>\n",
       "      <th>65</th>\n",
       "      <td>Not being told a hedkandi night was across fr...</td>\n",
       "      <td>0</td>\n",
       "      <td>told hedkandi night across room leave sleep ro...</td>\n",
       "      <td>0.118</td>\n",
       "      <td>0.157</td>\n",
       "      <td>0.725</td>\n",
       "      <td>0.4391</td>\n",
       "      <td>231</td>\n",
       "      <td>42</td>\n",
       "    </tr>\n",
       "    <tr>\n",
       "      <th>460707</th>\n",
       "      <td>Deposit taken too much money out of my account</td>\n",
       "      <td>1</td>\n",
       "      <td>deposit take much money account</td>\n",
       "      <td>0.000</td>\n",
       "      <td>0.000</td>\n",
       "      <td>1.000</td>\n",
       "      <td>0.0000</td>\n",
       "      <td>47</td>\n",
       "      <td>10</td>\n",
       "    </tr>\n",
       "    <tr>\n",
       "      <th>81869</th>\n",
       "      <td>The room was tiny and gloomy and bore no rese...</td>\n",
       "      <td>1</td>\n",
       "      <td>room tiny gloomy bore resemblance website cons...</td>\n",
       "      <td>0.148</td>\n",
       "      <td>0.000</td>\n",
       "      <td>0.852</td>\n",
       "      <td>-0.9144</td>\n",
       "      <td>543</td>\n",
       "      <td>109</td>\n",
       "    </tr>\n",
       "    <tr>\n",
       "      <th>24397</th>\n",
       "      <td>Fantastic hotel We can t wait to go back Room...</td>\n",
       "      <td>0</td>\n",
       "      <td>fantastic hotel wait go back room lovely spaci...</td>\n",
       "      <td>0.000</td>\n",
       "      <td>0.340</td>\n",
       "      <td>0.660</td>\n",
       "      <td>0.9312</td>\n",
       "      <td>183</td>\n",
       "      <td>35</td>\n",
       "    </tr>\n",
       "  </tbody>\n",
       "</table>\n",
       "</div>"
      ],
      "text/plain": [
       "                                                   review  is_bad_review  \\\n",
       "24725    The hotel facilities and location was excelle...              0   \n",
       "65       Not being told a hedkandi night was across fr...              0   \n",
       "460707     Deposit taken too much money out of my account              1   \n",
       "81869    The room was tiny and gloomy and bore no rese...              1   \n",
       "24397    Fantastic hotel We can t wait to go back Room...              0   \n",
       "\n",
       "                                             review_clean    neg    pos  \\\n",
       "24725   hotel facility location excellent handy tube t...  0.000  0.408   \n",
       "65      told hedkandi night across room leave sleep ro...  0.118  0.157   \n",
       "460707                    deposit take much money account  0.000  0.000   \n",
       "81869   room tiny gloomy bore resemblance website cons...  0.148  0.000   \n",
       "24397   fantastic hotel wait go back room lovely spaci...  0.000  0.340   \n",
       "\n",
       "          neu  compound  nb_chars  nb_words  \n",
       "24725   0.592    0.9300       161        27  \n",
       "65      0.725    0.4391       231        42  \n",
       "460707  1.000    0.0000        47        10  \n",
       "81869   0.852   -0.9144       543       109  \n",
       "24397   0.660    0.9312       183        35  "
      ]
     },
     "execution_count": 25,
     "metadata": {},
     "output_type": "execute_result"
    }
   ],
   "source": [
    "reviews_df.head()"
   ]
  },
  {
   "cell_type": "markdown",
   "metadata": {},
   "source": [
    "**We will now use the famous TF-IDF technique for text vectorization. This technique has many advantages over the traditional Bag of Words**"
   ]
  },
  {
   "cell_type": "markdown",
   "metadata": {},
   "source": [
    "**We will also use a Feature Selection technique while generating the vectors, we will only consider those words which occur atleast 10 times in the corpus. This allows us to not use Wrapper and Filter Techniques for Feature Selection in TF-IDF vectors**"
   ]
  },
  {
   "cell_type": "code",
   "execution_count": 26,
   "metadata": {},
   "outputs": [],
   "source": [
    "from sklearn.feature_extraction.text import TfidfVectorizer\n",
    "tfidf = TfidfVectorizer(min_df = 10)\n",
    "tfidf_result = tfidf.fit_transform(reviews_df[\"review_clean\"]).toarray()\n",
    "tfidf_df = pd.DataFrame(tfidf_result, columns = tfidf.get_feature_names())\n",
    "tfidf_df.columns = [\"word_\" + str(x) for x in tfidf_df.columns]\n",
    "tfidf_df.index = reviews_df.index\n",
    "reviews_df = pd.concat([reviews_df, tfidf_df], axis=1)"
   ]
  },
  {
   "cell_type": "markdown",
   "metadata": {},
   "source": [
    "**This is our final dataset**"
   ]
  },
  {
   "cell_type": "code",
   "execution_count": 27,
   "metadata": {},
   "outputs": [
    {
     "data": {
      "text/html": [
       "<div>\n",
       "<style scoped>\n",
       "    .dataframe tbody tr th:only-of-type {\n",
       "        vertical-align: middle;\n",
       "    }\n",
       "\n",
       "    .dataframe tbody tr th {\n",
       "        vertical-align: top;\n",
       "    }\n",
       "\n",
       "    .dataframe thead th {\n",
       "        text-align: right;\n",
       "    }\n",
       "</style>\n",
       "<table border=\"1\" class=\"dataframe\">\n",
       "  <thead>\n",
       "    <tr style=\"text-align: right;\">\n",
       "      <th></th>\n",
       "      <th>review</th>\n",
       "      <th>is_bad_review</th>\n",
       "      <th>review_clean</th>\n",
       "      <th>neg</th>\n",
       "      <th>pos</th>\n",
       "      <th>neu</th>\n",
       "      <th>compound</th>\n",
       "      <th>nb_chars</th>\n",
       "      <th>nb_words</th>\n",
       "      <th>word_abandon</th>\n",
       "      <th>...</th>\n",
       "      <th>word_yet</th>\n",
       "      <th>word_yo</th>\n",
       "      <th>word_yoghurt</th>\n",
       "      <th>word_yogurt</th>\n",
       "      <th>word_young</th>\n",
       "      <th>word_youth</th>\n",
       "      <th>word_yr</th>\n",
       "      <th>word_yummy</th>\n",
       "      <th>word_zero</th>\n",
       "      <th>word_zone</th>\n",
       "    </tr>\n",
       "  </thead>\n",
       "  <tbody>\n",
       "    <tr>\n",
       "      <th>24725</th>\n",
       "      <td>The hotel facilities and location was excelle...</td>\n",
       "      <td>0</td>\n",
       "      <td>hotel facility location excellent handy tube t...</td>\n",
       "      <td>0.000</td>\n",
       "      <td>0.408</td>\n",
       "      <td>0.592</td>\n",
       "      <td>0.9300</td>\n",
       "      <td>161</td>\n",
       "      <td>27</td>\n",
       "      <td>0.0</td>\n",
       "      <td>...</td>\n",
       "      <td>0.0</td>\n",
       "      <td>0.0</td>\n",
       "      <td>0.0</td>\n",
       "      <td>0.0</td>\n",
       "      <td>0.0</td>\n",
       "      <td>0.0</td>\n",
       "      <td>0.0</td>\n",
       "      <td>0.0</td>\n",
       "      <td>0.0</td>\n",
       "      <td>0.0</td>\n",
       "    </tr>\n",
       "    <tr>\n",
       "      <th>65</th>\n",
       "      <td>Not being told a hedkandi night was across fr...</td>\n",
       "      <td>0</td>\n",
       "      <td>told hedkandi night across room leave sleep ro...</td>\n",
       "      <td>0.118</td>\n",
       "      <td>0.157</td>\n",
       "      <td>0.725</td>\n",
       "      <td>0.4391</td>\n",
       "      <td>231</td>\n",
       "      <td>42</td>\n",
       "      <td>0.0</td>\n",
       "      <td>...</td>\n",
       "      <td>0.0</td>\n",
       "      <td>0.0</td>\n",
       "      <td>0.0</td>\n",
       "      <td>0.0</td>\n",
       "      <td>0.0</td>\n",
       "      <td>0.0</td>\n",
       "      <td>0.0</td>\n",
       "      <td>0.0</td>\n",
       "      <td>0.0</td>\n",
       "      <td>0.0</td>\n",
       "    </tr>\n",
       "    <tr>\n",
       "      <th>460707</th>\n",
       "      <td>Deposit taken too much money out of my account</td>\n",
       "      <td>1</td>\n",
       "      <td>deposit take much money account</td>\n",
       "      <td>0.000</td>\n",
       "      <td>0.000</td>\n",
       "      <td>1.000</td>\n",
       "      <td>0.0000</td>\n",
       "      <td>47</td>\n",
       "      <td>10</td>\n",
       "      <td>0.0</td>\n",
       "      <td>...</td>\n",
       "      <td>0.0</td>\n",
       "      <td>0.0</td>\n",
       "      <td>0.0</td>\n",
       "      <td>0.0</td>\n",
       "      <td>0.0</td>\n",
       "      <td>0.0</td>\n",
       "      <td>0.0</td>\n",
       "      <td>0.0</td>\n",
       "      <td>0.0</td>\n",
       "      <td>0.0</td>\n",
       "    </tr>\n",
       "    <tr>\n",
       "      <th>81869</th>\n",
       "      <td>The room was tiny and gloomy and bore no rese...</td>\n",
       "      <td>1</td>\n",
       "      <td>room tiny gloomy bore resemblance website cons...</td>\n",
       "      <td>0.148</td>\n",
       "      <td>0.000</td>\n",
       "      <td>0.852</td>\n",
       "      <td>-0.9144</td>\n",
       "      <td>543</td>\n",
       "      <td>109</td>\n",
       "      <td>0.0</td>\n",
       "      <td>...</td>\n",
       "      <td>0.0</td>\n",
       "      <td>0.0</td>\n",
       "      <td>0.0</td>\n",
       "      <td>0.0</td>\n",
       "      <td>0.0</td>\n",
       "      <td>0.0</td>\n",
       "      <td>0.0</td>\n",
       "      <td>0.0</td>\n",
       "      <td>0.0</td>\n",
       "      <td>0.0</td>\n",
       "    </tr>\n",
       "    <tr>\n",
       "      <th>24397</th>\n",
       "      <td>Fantastic hotel We can t wait to go back Room...</td>\n",
       "      <td>0</td>\n",
       "      <td>fantastic hotel wait go back room lovely spaci...</td>\n",
       "      <td>0.000</td>\n",
       "      <td>0.340</td>\n",
       "      <td>0.660</td>\n",
       "      <td>0.9312</td>\n",
       "      <td>183</td>\n",
       "      <td>35</td>\n",
       "      <td>0.0</td>\n",
       "      <td>...</td>\n",
       "      <td>0.0</td>\n",
       "      <td>0.0</td>\n",
       "      <td>0.0</td>\n",
       "      <td>0.0</td>\n",
       "      <td>0.0</td>\n",
       "      <td>0.0</td>\n",
       "      <td>0.0</td>\n",
       "      <td>0.0</td>\n",
       "      <td>0.0</td>\n",
       "      <td>0.0</td>\n",
       "    </tr>\n",
       "  </tbody>\n",
       "</table>\n",
       "<p>5 rows × 4009 columns</p>\n",
       "</div>"
      ],
      "text/plain": [
       "                                                   review  is_bad_review  \\\n",
       "24725    The hotel facilities and location was excelle...              0   \n",
       "65       Not being told a hedkandi night was across fr...              0   \n",
       "460707     Deposit taken too much money out of my account              1   \n",
       "81869    The room was tiny and gloomy and bore no rese...              1   \n",
       "24397    Fantastic hotel We can t wait to go back Room...              0   \n",
       "\n",
       "                                             review_clean    neg    pos  \\\n",
       "24725   hotel facility location excellent handy tube t...  0.000  0.408   \n",
       "65      told hedkandi night across room leave sleep ro...  0.118  0.157   \n",
       "460707                    deposit take much money account  0.000  0.000   \n",
       "81869   room tiny gloomy bore resemblance website cons...  0.148  0.000   \n",
       "24397   fantastic hotel wait go back room lovely spaci...  0.000  0.340   \n",
       "\n",
       "          neu  compound  nb_chars  nb_words  word_abandon  ...  word_yet  \\\n",
       "24725   0.592    0.9300       161        27           0.0  ...       0.0   \n",
       "65      0.725    0.4391       231        42           0.0  ...       0.0   \n",
       "460707  1.000    0.0000        47        10           0.0  ...       0.0   \n",
       "81869   0.852   -0.9144       543       109           0.0  ...       0.0   \n",
       "24397   0.660    0.9312       183        35           0.0  ...       0.0   \n",
       "\n",
       "        word_yo  word_yoghurt  word_yogurt  word_young  word_youth  word_yr  \\\n",
       "24725       0.0           0.0          0.0         0.0         0.0      0.0   \n",
       "65          0.0           0.0          0.0         0.0         0.0      0.0   \n",
       "460707      0.0           0.0          0.0         0.0         0.0      0.0   \n",
       "81869       0.0           0.0          0.0         0.0         0.0      0.0   \n",
       "24397       0.0           0.0          0.0         0.0         0.0      0.0   \n",
       "\n",
       "        word_yummy  word_zero  word_zone  \n",
       "24725          0.0        0.0        0.0  \n",
       "65             0.0        0.0        0.0  \n",
       "460707         0.0        0.0        0.0  \n",
       "81869          0.0        0.0        0.0  \n",
       "24397          0.0        0.0        0.0  \n",
       "\n",
       "[5 rows x 4009 columns]"
      ]
     },
     "execution_count": 27,
     "metadata": {},
     "output_type": "execute_result"
    }
   ],
   "source": [
    "reviews_df.head()"
   ]
  },
  {
   "cell_type": "code",
   "execution_count": 29,
   "metadata": {},
   "outputs": [
    {
     "data": {
      "text/plain": [
       "(44000, 4009)"
      ]
     },
     "execution_count": 29,
     "metadata": {},
     "output_type": "execute_result"
    }
   ],
   "source": [
    "reviews_df.shape"
   ]
  },
  {
   "cell_type": "markdown",
   "metadata": {},
   "source": [
    "**Saving our TF-IDF vector for preprocessing of test dataset**"
   ]
  },
  {
   "cell_type": "code",
   "execution_count": 45,
   "metadata": {},
   "outputs": [
    {
     "data": {
      "text/plain": [
       "['tfidf.pkl']"
      ]
     },
     "execution_count": 45,
     "metadata": {},
     "output_type": "execute_result"
    }
   ],
   "source": [
    "import joblib\n",
    "joblib.dump(tfidf, 'tfidf.pkl') "
   ]
  },
  {
   "cell_type": "markdown",
   "metadata": {},
   "source": [
    "**Saving our clean dataset**"
   ]
  },
  {
   "cell_type": "code",
   "execution_count": 7,
   "metadata": {},
   "outputs": [],
   "source": [
    "reviews_df.to_csv(\"preprocessed_data_max.csv\", index = False)"
   ]
  },
  {
   "cell_type": "markdown",
   "metadata": {},
   "source": [
    "**We have also created a Python Script for the preprocessing of the test dataset following the same steps we did for the training dataset**"
   ]
  }
 ],
 "metadata": {
  "kernelspec": {
   "display_name": "Python 3",
   "language": "python",
   "name": "python3"
  },
  "language_info": {
   "codemirror_mode": {
    "name": "ipython",
    "version": 3
   },
   "file_extension": ".py",
   "mimetype": "text/x-python",
   "name": "python",
   "nbconvert_exporter": "python",
   "pygments_lexer": "ipython3",
   "version": "3.8.3"
  }
 },
 "nbformat": 4,
 "nbformat_minor": 4
}
